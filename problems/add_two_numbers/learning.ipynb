{
 "cells": [
  {
   "cell_type": "code",
   "execution_count": null,
   "metadata": {},
   "outputs": [],
   "source": [
    "# Definition for singly-linked list.\n",
    "# class ListNode:\n",
    "#     def __init__(self, val=0, next=None):\n",
    "#         self.val = val\n",
    "#         self.next = next\n",
    "class Solution:\n",
    "    def addTwoNumbers(self, l1: Optional[ListNode], l2: Optional[ListNode]) -> Optional[ListNode]:\n",
    "        "
   ]
  },
  {
   "cell_type": "code",
   "execution_count": 2,
   "metadata": {},
   "outputs": [],
   "source": [
    "def addTwoNumbers(list1, list2):\n",
    "    reverse_1 = list1.reverse()\n",
    "    reverse_2 = list2.reverse()\n",
    "\n",
    "    number1 = int(''.join(map(str, list1)))\n",
    "    number2 = int(''.join(map(str, list2)))\n",
    "\n",
    "    sum_of_nums = number1 + number2\n",
    "    \n",
    "    sum_list = []\n",
    "    for num in str(sum_of_nums):\n",
    "        sum_list.append(num)\n",
    "    \n",
    "    return sum_list\n",
    "\n",
    "\n",
    "\n",
    "\n"
   ]
  },
  {
   "cell_type": "code",
   "execution_count": 3,
   "metadata": {},
   "outputs": [
    {
     "data": {
      "text/plain": [
       "['8', '0', '7']"
      ]
     },
     "execution_count": 3,
     "metadata": {},
     "output_type": "execute_result"
    }
   ],
   "source": [
    "addTwoNumbers([2,4,3], [5,6,4])"
   ]
  },
  {
   "cell_type": "markdown",
   "metadata": {},
   "source": [
    "I thought this looked good, but actually there are some flaws:\n",
    "\n",
    "__Reversal method:__ list1.reverse() mutates the list in place and doesn't return a new list. Additionally, l1 and l2 for the problem are ListNode objects, not Python lists, so reverse() won’t work. :(\n",
    "\n",
    "__Converting to integers:__ Instead of reversing and converting the lists into numbers directly, I need to traverse the linked list to extract numbers.\n",
    "\n",
    "__Returning a linked list:__ The result should be a linked list, not a Python list.\n"
   ]
  },
  {
   "cell_type": "code",
   "execution_count": 4,
   "metadata": {},
   "outputs": [],
   "source": [
    "# Try again using linked lists\n",
    "\n",
    "from typing import Optional \n",
    "\n",
    "class ListNode:\n",
    "    def __init__(self, val=0, next=None):\n",
    "        self.val = val\n",
    "        self.next = next\n",
    "\n",
    "class Solution:\n",
    "    def addTwoNumbers(self, l1:Optional[ListNode], l2:Optional[ListNode]) -> Optional[ListNode]:\n",
    "        # step 1: extract lists from linked lists\n",
    "        list1, list2 = [], []\n",
    "\n",
    "        while l1:\n",
    "            list1.append(str(l1.val))\n",
    "            l1 = l1.next\n",
    "        while l2:\n",
    "            list2.append(str(l2.val))\n",
    "            l2 = l2.next\n",
    "        \n",
    "        # Step 2: Reverse the lists and convert to integers\n",
    "        number1 = int(''.join(list1[::-1]))  \n",
    "        number2 = int(''.join(list2[::-1]))\n",
    "\n",
    "        sum_of_nums = number1 + number2  # Compute the sum\n",
    "\n",
    "        # Step 3: Convert sum to linked list\n",
    "        sum_list = list(str(sum_of_nums))  # Convert to list of digits\n",
    "\n",
    "        dummy_head = ListNode()  # Dummy node\n",
    "        current = dummy_head\n",
    "\n",
    "        for num in reversed(sum_list):  # Iterate in reverse order\n",
    "            current.next = ListNode(int(num))\n",
    "            current = current.next\n",
    "\n",
    "        return dummy_head.next  # Return head of the result list\n",
    "\n",
    "        \n"
   ]
  },
  {
   "cell_type": "code",
   "execution_count": 5,
   "metadata": {},
   "outputs": [
    {
     "data": {
      "text/plain": [
       "['8', '0', '7']"
      ]
     },
     "execution_count": 5,
     "metadata": {},
     "output_type": "execute_result"
    }
   ],
   "source": [
    "addTwoNumbers([2,4,3], [5,6,4])"
   ]
  },
  {
   "cell_type": "code",
   "execution_count": null,
   "metadata": {},
   "outputs": [],
   "source": []
  }
 ],
 "metadata": {
  "kernelspec": {
   "display_name": "dash-env",
   "language": "python",
   "name": "python3"
  },
  "language_info": {
   "codemirror_mode": {
    "name": "ipython",
    "version": 3
   },
   "file_extension": ".py",
   "mimetype": "text/x-python",
   "name": "python",
   "nbconvert_exporter": "python",
   "pygments_lexer": "ipython3",
   "version": "3.9.16"
  }
 },
 "nbformat": 4,
 "nbformat_minor": 2
}
